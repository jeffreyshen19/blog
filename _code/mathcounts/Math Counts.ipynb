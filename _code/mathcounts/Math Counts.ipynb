{
 "cells": [
  {
   "cell_type": "markdown",
   "metadata": {},
   "source": [
    "## Math Counts"
   ]
  },
  {
   "cell_type": "markdown",
   "metadata": {},
   "source": [
    "## Scrape Competition Locations"
   ]
  },
  {
   "cell_type": "code",
   "execution_count": 21,
   "metadata": {},
   "outputs": [],
   "source": [
    "import requests\n",
    "import pandas as pd\n",
    "from bs4 import BeautifulSoup"
   ]
  },
  {
   "cell_type": "code",
   "execution_count": 31,
   "metadata": {},
   "outputs": [],
   "source": [
    "# Get all competitions from Math Counts website\n",
    "\n",
    "columns = [\"Competition Name\", \"URL\", \"State\", \"Date\", \"Type\", \"City\"]\n",
    "data = []\n",
    "\n",
    "for page in range(0, 23):\n",
    "    url = \"https://www.mathcounts.org/dates-locations-coordinators?field_competition_state_value=All&page=\" + str(page)\n",
    "    html = requests.get(url).text\n",
    "    soup = BeautifulSoup(html, \"html.parser\")\n",
    "    \n",
    "    table = soup.find(\"table\", {\"class\": \"views-table\"}).find(\"tbody\")\n",
    "    for row in table.findAll(\"tr\"):\n",
    "        rowData = row.findAll(\"td\")\n",
    "        \n",
    "        competitionName = rowData[0].getText()\n",
    "        url = \"https://www.mathcounts.org\" + rowData[0].find(\"a\")[\"href\"]\n",
    "        state = rowData[1].getText().strip()\n",
    "        date = rowData[2].getText().strip()\n",
    "        competitionType = rowData[3].getText().strip()\n",
    "        city = rowData[4].getText().strip()\n",
    "        \n",
    "        data.append([competitionName, url, state, data, competitionType, city])\n",
    "\n",
    "df = pd.DataFrame(data, columns = columns)"
   ]
  },
  {
   "cell_type": "code",
   "execution_count": null,
   "metadata": {},
   "outputs": [],
   "source": [
    "df.head()"
   ]
  },
  {
   "cell_type": "code",
   "execution_count": null,
   "metadata": {},
   "outputs": [],
   "source": []
  }
 ],
 "metadata": {
  "kernelspec": {
   "display_name": "Python 3",
   "language": "python",
   "name": "python3"
  },
  "language_info": {
   "codemirror_mode": {
    "name": "ipython",
    "version": 3
   },
   "file_extension": ".py",
   "mimetype": "text/x-python",
   "name": "python",
   "nbconvert_exporter": "python",
   "pygments_lexer": "ipython3",
   "version": "3.7.4"
  }
 },
 "nbformat": 4,
 "nbformat_minor": 4
}

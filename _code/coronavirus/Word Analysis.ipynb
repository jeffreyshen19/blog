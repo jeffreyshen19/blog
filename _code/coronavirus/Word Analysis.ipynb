{
 "cells": [
  {
   "cell_type": "code",
   "execution_count": 31,
   "metadata": {},
   "outputs": [
    {
     "name": "stderr",
     "output_type": "stream",
     "text": [
      "[nltk_data] Downloading package punkt to /Users/jshen/nltk_data...\n",
      "[nltk_data]   Package punkt is already up-to-date!\n",
      "[nltk_data] Downloading package stopwords to /Users/jshen/nltk_data...\n",
      "[nltk_data]   Package stopwords is already up-to-date!\n"
     ]
    }
   ],
   "source": [
    "import pandas as pd \n",
    "import nltk\n",
    "from nltk.tokenize import sent_tokenize, RegexpTokenizer\n",
    "from nltk.corpus import stopwords \n",
    "import gensim \n",
    "from gensim.models import Word2Vec\n",
    "import ssl\n",
    "import datetime\n",
    "import numpy as np\n",
    "from vaderSentiment.vaderSentiment import SentimentIntensityAnalyzer \n",
    "\n",
    "try:\n",
    "    _create_unverified_https_context = ssl._create_unverified_context\n",
    "except AttributeError:\n",
    "    pass\n",
    "else:\n",
    "    ssl._create_default_https_context = _create_unverified_https_context\n",
    " \n",
    "nltk.download('punkt')\n",
    "nltk.download('stopwords')\n",
    "stop_words = set(stopwords.words('english'))"
   ]
  },
  {
   "cell_type": "code",
   "execution_count": 3,
   "metadata": {},
   "outputs": [],
   "source": [
    "df = pd.read_json(\"tweets.json\")"
   ]
  },
  {
   "cell_type": "markdown",
   "metadata": {},
   "source": [
    "## Format Data\n",
    "We want to visualize social media patterns as a timescale, so lets segment the data into bins that can be selected on."
   ]
  },
  {
   "cell_type": "code",
   "execution_count": 4,
   "metadata": {
    "scrolled": false
   },
   "outputs": [],
   "source": [
    "# Add Time Columns\n",
    "df['year'] = df.apply(lambda x: x[\"timestamp\"].year, axis = 1)\n",
    "df['month'] = df.apply(lambda x: x[\"timestamp\"].month, axis = 1)"
   ]
  },
  {
   "cell_type": "markdown",
   "metadata": {},
   "source": [
    "## Perform Word Analysis, by Time Frame \n",
    "Using word2vec to analyze word distances amongst the sample tweets, broken down by time frame."
   ]
  },
  {
   "cell_type": "code",
   "execution_count": 23,
   "metadata": {},
   "outputs": [],
   "source": [
    "tokenizer = RegexpTokenizer(r'\\w+')\n",
    "\n",
    "def getDataForWord2Vec(dFrame): # takes a dataframe, returns an array that can be used by word2vec\n",
    "    data = []\n",
    "  \n",
    "    for tweet in dFrame[\"text\"]:\n",
    "        temp = []\n",
    "    \n",
    "        for i in sent_tokenize(tweet):\n",
    "            for j in tokenizer.tokenize(i):\n",
    "                if j.lower() not in stop_words: temp.append(j.lower())\n",
    "        \n",
    "        data.append(temp)\n",
    "        \n",
    "    return data"
   ]
  },
  {
   "cell_type": "code",
   "execution_count": 51,
   "metadata": {},
   "outputs": [
    {
     "name": "stdout",
     "output_type": "stream",
     "text": [
      "[{'month': 1, 'year': 2019, 'sentiment': 0.042050000000000004}, {'month': 2, 'year': 2019, 'sentiment': 0.05888064516129029}, {'month': 3, 'year': 2019, 'sentiment': -0.20416129032258062}, {'month': 4, 'year': 2019, 'sentiment': -0.08414444444444448}, {'month': 5, 'year': 2019, 'sentiment': 0.1828279069767442}, {'month': 6, 'year': 2019, 'sentiment': 0.42483283582089565}, {'month': 7, 'year': 2019, 'sentiment': 0.0016205128205128499}, {'month': 8, 'year': 2019, 'sentiment': 0.1349326530612246}, {'month': 9, 'year': 2019, 'sentiment': 0.14861794871794873}, {'month': 10, 'year': 2019, 'sentiment': 0.13601351351351348}, {'month': 11, 'year': 2019, 'sentiment': -0.0932906976744186}, {'month': 1, 'year': 2020, 'sentiment': -0.23538648648648647}]\n"
     ]
    }
   ],
   "source": [
    "# Sentiment analysis \n",
    "sid_obj = SentimentIntensityAnalyzer() \n",
    "sentiment_scores = []\n",
    "yaxis = []\n",
    "\n",
    "year = 2019\n",
    "for i in range(1, 14):\n",
    "    if i == 13: year += 1 # Account for Jan 2020 case\n",
    "    data = df[(df[\"month\"] == i % 12) & (df[\"year\"] == year)]\n",
    "    if len(data):\n",
    "        total = 0\n",
    "        num = 0\n",
    "        for index, row in data.iterrows():\n",
    "            sentiment = sid_obj.polarity_scores(row[\"text\"])\n",
    "            if sentiment[\"neu\"] <= 0.50: #remove neutral sentiments \n",
    "                total += sentiment[\"compound\"]\n",
    "                num += 1\n",
    "\n",
    "        sentiment_scores.append({\n",
    "            \"month\": i % 12,\n",
    "            \"year\": year,\n",
    "            \"sentiment\": total / num\n",
    "        })\n",
    "        yaxis.append(total/num)\n",
    "        \n",
    "print(sentiment_scores)"
   ]
  },
  {
   "cell_type": "code",
   "execution_count": 52,
   "metadata": {},
   "outputs": [
    {
     "data": {
      "text/plain": [
       "[<matplotlib.lines.Line2D at 0x12a07f750>]"
      ]
     },
     "execution_count": 52,
     "metadata": {},
     "output_type": "execute_result"
    },
    {
     "data": {
      "image/png": "[encoded data removed]",
      "text/plain": [
       "<Figure size 432x288 with 1 Axes>"
      ]
     },
     "metadata": {
      "needs_background": "light"
     },
     "output_type": "display_data"
    }
   ],
   "source": [
    "import matplotlib.pyplot as plt\n",
    "plt.plot(yaxis)"
   ]
  },
  {
   "cell_type": "code",
   "execution_count": 24,
   "metadata": {},
   "outputs": [],
   "source": [
    "models = [];\n",
    "year = 2019\n",
    "for i in range(1, 14):\n",
    "    if i == 13: year += 1 # Account for Jan 2020 case\n",
    "    data = getDataForWord2Vec(df[(df[\"month\"] == i % 12) & (df[\"year\"] == year)])\n",
    "    if len(data):\n",
    "        model = gensim.models.Word2Vec(data, min_count=1) \n",
    "        models.append({\n",
    "            \"month\": i % 12,\n",
    "            \"year\": year,\n",
    "            \"model\": model\n",
    "        })\n",
    "    "
   ]
  },
  {
   "cell_type": "code",
   "execution_count": 30,
   "metadata": {},
   "outputs": [
    {
     "name": "stdout",
     "output_type": "stream",
     "text": [
      "1/2019\n",
      "[('people', 0.9998934864997864), ('china', 0.9995563626289368), ('world', 0.9995144009590149), ('would', 0.9995002746582031), ('like', 0.9994922876358032), ('one', 0.9994511008262634), ('time', 0.999414324760437), ('even', 0.9993738532066345), ('also', 0.9993313550949097), ('country', 0.9993169903755188)]\n",
      "0.43330446\n",
      "\n",
      "2/2019\n",
      "[('people', 0.9998196959495544), ('china', 0.9994246959686279), ('www', 0.9993564486503601), ('would', 0.9991850852966309), ('like', 0.999155580997467), ('even', 0.9991507530212402), ('know', 0.9990978837013245), ('us', 0.9990249872207642), ('country', 0.9990077018737793), ('white', 0.9989726543426514)]\n",
      "0.67270505\n",
      "\n",
      "3/2019\n",
      "[('people', 0.9997056722640991), ('china', 0.9992757439613342), ('https', 0.9990580081939697), ('like', 0.9987616539001465), ('com', 0.9987494349479675), ('www', 0.9987013936042786), ('twitter', 0.9986764192581177), ('us', 0.9986580610275269), ('even', 0.998573899269104), ('one', 0.9985232353210449)]\n",
      "0.03259159\n",
      "\n",
      "4/2019\n",
      "[('people', 0.999294638633728), ('china', 0.9982345700263977), ('com', 0.9980198740959167), ('https', 0.997822105884552), ('ccp', 0.9977563619613647), ('like', 0.9977226257324219), ('www', 0.9976198673248291), ('would', 0.997288703918457), ('us', 0.9971768856048584), ('twitter', 0.9971665143966675)]\n",
      "0.41927153\n",
      "\n",
      "5/2019\n",
      "[('people', 0.9997774958610535), ('china', 0.9997332096099854), ('ccp', 0.9996516704559326), ('one', 0.999625563621521), ('us', 0.9996119737625122), ('www', 0.9995908737182617), ('https', 0.9995563626289368), ('like', 0.999542236328125), ('world', 0.9995414018630981), ('trump', 0.9995219111442566)]\n",
      "\n",
      "6/2019\n",
      "[('people', 0.9998767375946045), ('china', 0.9997686147689819), ('ccp', 0.9997156858444214), ('like', 0.9996944069862366), ('world', 0.9996827840805054), ('even', 0.9996610879898071), ('us', 0.9996570348739624), ('https', 0.9996437430381775), ('www', 0.9996137619018555), ('one', 0.9996033310890198)]\n",
      "\n",
      "7/2019\n",
      "[('people', 0.9998021125793457), ('china', 0.9995772838592529), ('like', 0.9995165467262268), ('would', 0.9994471073150635), ('us', 0.9994458556175232), ('www', 0.9994429349899292), ('https', 0.9994413256645203), ('com', 0.9994345307350159), ('one', 0.9993585348129272), ('ccp', 0.9993419647216797)]\n",
      "0.654643\n",
      "\n",
      "8/2019\n",
      "[('people', 0.9999209642410278), ('china', 0.9998695850372314), ('world', 0.9997986555099487), ('ccp', 0.9997881054878235), ('https', 0.9997639656066895), ('us', 0.9997471570968628), ('like', 0.9997406005859375), ('would', 0.9997173547744751), ('one', 0.9997168183326721), ('com', 0.999700665473938)]\n",
      "0.63672847\n",
      "\n",
      "9/2019\n",
      "[('people', 0.9998457431793213), ('china', 0.9996733665466309), ('com', 0.9996284246444702), ('one', 0.9996275901794434), ('like', 0.9996181726455688), ('ccp', 0.9996173977851868), ('https', 0.9996141195297241), ('racist', 0.9995719194412231), ('see', 0.999545693397522), ('world', 0.9995007514953613)]\n",
      "\n",
      "10/2019\n",
      "[('people', 0.9998592138290405), ('china', 0.9997938871383667), ('ccp', 0.9996893405914307), ('world', 0.9996185898780823), ('one', 0.9996122121810913), ('like', 0.9995993971824646), ('https', 0.9995543360710144), ('country', 0.9995229244232178), ('would', 0.9995152354240417), ('www', 0.9994985461235046)]\n",
      "0.7915715\n",
      "\n",
      "11/2019\n",
      "[('people', 0.999806821346283), ('china', 0.9997345209121704), ('ccp', 0.9995989799499512), ('https', 0.9995869994163513), ('government', 0.9995759725570679), ('world', 0.9995649456977844), ('like', 0.9995508790016174), ('www', 0.9994944334030151), ('us', 0.9994826316833496), ('com', 0.9994804859161377)]\n",
      "-0.0847582\n",
      "\n",
      "1/2020\n",
      "[('people', 0.9995035529136658), ('china', 0.9985727071762085), ('com', 0.9983927607536316), ('like', 0.9982913136482239), ('ccp', 0.9982743263244629), ('https', 0.9981043338775635), ('twitter', 0.99782395362854), ('even', 0.9976814985275269), ('us', 0.9976457357406616), ('would', 0.9974081516265869)]\n",
      "0.6109577\n",
      "\n"
     ]
    },
    {
     "name": "stderr",
     "output_type": "stream",
     "text": [
      "/Library/Frameworks/Python.framework/Versions/3.7/lib/python3.7/site-packages/ipykernel_launcher.py:3: DeprecationWarning: Call to deprecated `most_similar` (Method will be removed in 4.0.0, use self.wv.most_similar() instead).\n",
      "  This is separate from the ipykernel package so we can avoid doing imports until\n",
      "/Library/Frameworks/Python.framework/Versions/3.7/lib/python3.7/site-packages/ipykernel_launcher.py:5: DeprecationWarning: Call to deprecated `similarity` (Method will be removed in 4.0.0, use self.wv.similarity() instead).\n",
      "  \"\"\"\n"
     ]
    }
   ],
   "source": [
    "for model in models: \n",
    "    print(str(model[\"month\"]) + \"/\" + str(model[\"year\"]))\n",
    "    print(model[\"model\"].most_similar(positive=[\"chinese\"]))\n",
    "    if(\"gross\" in model[\"model\"].wv): \n",
    "        print(model[\"model\"].similarity(\"chinese\", \"gross\"))\n",
    "    print()\n",
    "#     print(str(model[\"month\"]) + \"/\" + str(model[\"year\"]) + \": \" + str(model[\"model\"].similarity(\"chinese\", \"dirty\")))"
   ]
  },
  {
   "cell_type": "code",
   "execution_count": 56,
   "metadata": {},
   "outputs": [
    {
     "name": "stderr",
     "output_type": "stream",
     "text": [
      "/Library/Frameworks/Python.framework/Versions/3.7/lib/python3.7/site-packages/ipykernel_launcher.py:1: DeprecationWarning: Call to deprecated `most_similar` (Method will be removed in 4.0.0, use self.wv.most_similar() instead).\n",
      "  \"\"\"Entry point for launching an IPython kernel.\n"
     ]
    },
    {
     "data": {
      "text/plain": [
       "[('quarantined', 0.9873600602149963),\n",
       " ('dozens', 0.9866129755973816),\n",
       " ('central', 0.9845096468925476),\n",
       " ('scientists', 0.9833424687385559),\n",
       " ('woman', 0.9813871383666992),\n",
       " ('behind', 0.9803215861320496),\n",
       " ('state', 0.9803016185760498),\n",
       " ('quarantines', 0.9800556898117065),\n",
       " ('retail', 0.9800424575805664),\n",
       " ('mysterious', 0.9793493747711182),\n",
       " ('pneumonia-like', 0.9789493083953857),\n",
       " ('unidentified', 0.9788590669631958),\n",
       " ('report', 0.9771192073822021),\n",
       " ('11m', 0.9717527031898499),\n",
       " ('dies', 0.9711296558380127),\n",
       " ('store', 0.9709696173667908),\n",
       " ('possible', 0.9696741104125977),\n",
       " ('new', 0.969482421875),\n",
       " ('bar', 0.9693507552146912),\n",
       " ('travel', 0.9691596031188965),\n",
       " ('tourist', 0.9691296219825745),\n",
       " ('likely', 0.9690911769866943),\n",
       " ('cut', 0.9687844514846802),\n",
       " ('evacuation', 0.9686446785926819),\n",
       " ('visitor', 0.96837317943573),\n",
       " ('investigating', 0.9679380655288696),\n",
       " ('mainland', 0.9675858616828918),\n",
       " ('lockdown', 0.9675307869911194),\n",
       " ('caused', 0.9674668312072754),\n",
       " ('claims', 0.9671000242233276),\n",
       " ('due', 0.9662158489227295),\n",
       " ('center', 0.9660414457321167),\n",
       " ('discovered', 0.965877115726471),\n",
       " ('suspends', 0.9656352996826172),\n",
       " ('preliminarily', 0.9654840230941772),\n",
       " ('china', 0.9649847745895386),\n",
       " ('mystery', 0.9647791385650635),\n",
       " ('limiting', 0.9647538661956787),\n",
       " ('us', 0.9644998908042908),\n",
       " ('heart', 0.9636207818984985),\n",
       " ('man', 0.9633758068084717),\n",
       " ('causing', 0.9628275036811829),\n",
       " ('sickened', 0.9611791372299194),\n",
       " ('deadly', 0.9609897136688232),\n",
       " ('tracks', 0.9609758853912354),\n",
       " ('may', 0.9601936340332031),\n",
       " ('alarming', 0.9594029784202576),\n",
       " ('entire', 0.9592719674110413),\n",
       " ('illness', 0.9587317705154419),\n",
       " ('illnesses', 0.9586892127990723),\n",
       " ('select', 0.9586573839187622),\n",
       " ('diagnosed', 0.9586057662963867),\n",
       " ('affecting', 0.9584982395172119),\n",
       " ('raising', 0.9580447673797607),\n",
       " ('visited', 0.9577469229698181),\n",
       " ('queensland', 0.9573793411254883),\n",
       " ('traveler', 0.9573607444763184),\n",
       " ('tied', 0.9564135074615479),\n",
       " ('taiwan', 0.9563854932785034),\n",
       " ('epicenter', 0.9561328887939453),\n",
       " ('imposes', 0.9558336734771729),\n",
       " ('begins', 0.9555378556251526),\n",
       " ('shuts', 0.955379068851471),\n",
       " ('putative', 0.955177903175354),\n",
       " ('officially', 0.9547841548919678),\n",
       " ('confirm', 0.9546737670898438),\n",
       " ('found', 0.9542744755744934),\n",
       " ('infected', 0.9539390802383423),\n",
       " ('canada', 0.9537960886955261),\n",
       " ('viral', 0.9537788033485413),\n",
       " ('city', 0.9537021517753601),\n",
       " ('lung', 0.9536086320877075),\n",
       " ('non-essential', 0.9535012245178223),\n",
       " ('eastern', 0.9533045291900635),\n",
       " ('hospitalized', 0.9528453350067139),\n",
       " ('observing', 0.9525322914123535),\n",
       " ('originated', 0.9518706798553467),\n",
       " ('media', 0.9518523216247559),\n",
       " ('visit', 0.9516004323959351),\n",
       " ('detected', 0.9512321949005127),\n",
       " ('adds', 0.9511602520942688),\n",
       " ('patient', 0.9508784413337708),\n",
       " ('residents', 0.9506394863128662),\n",
       " ('saturday', 0.9506170749664307),\n",
       " ('officials', 0.9497323632240295),\n",
       " ('authorities', 0.9495015144348145),\n",
       " ('previously', 0.9493585228919983),\n",
       " ('five', 0.9490011930465698),\n",
       " ('impacts', 0.948951005935669),\n",
       " ('kong', 0.9483077526092529),\n",
       " ('wuhan', 0.9482223391532898),\n",
       " (\"'s\", 0.9480909109115601),\n",
       " ('traced', 0.9479804635047913),\n",
       " ('linked', 0.9476771950721741),\n",
       " ('province', 0.9476516246795654),\n",
       " ('rear', 0.9475439190864563),\n",
       " ('470', 0.9475210905075073),\n",
       " ('outbound', 0.9473809003829956),\n",
       " ('identifies', 0.9468941688537598),\n",
       " ('criminal', 0.9467592239379883)]"
      ]
     },
     "execution_count": 56,
     "metadata": {},
     "output_type": "execute_result"
    }
   ],
   "source": [
    "model.most_similar(positive=['chinese'], topn=100)"
   ]
  },
  {
   "cell_type": "code",
   "execution_count": 31,
   "metadata": {},
   "outputs": [
    {
     "name": "stderr",
     "output_type": "stream",
     "text": [
      "/Library/Frameworks/Python.framework/Versions/3.7/lib/python3.7/site-packages/ipykernel_launcher.py:1: DeprecationWarning: Call to deprecated `syn0` (Attribute will be removed in 4.0.0, use self.vectors instead).\n",
      "  \"\"\"Entry point for launching an IPython kernel.\n"
     ]
    },
    {
     "data": {
      "text/plain": [
       "(25679, 100)"
      ]
     },
     "execution_count": 31,
     "metadata": {},
     "output_type": "execute_result"
    }
   ],
   "source": [
    "model.wv.syn0.shape"
   ]
  },
  {
   "cell_type": "code",
   "execution_count": null,
   "metadata": {},
   "outputs": [],
   "source": []
  }
 ],
 "metadata": {
  "kernelspec": {
   "display_name": "Python 3",
   "language": "python",
   "name": "python3"
  },
  "language_info": {
   "codemirror_mode": {
    "name": "ipython",
    "version": 3
   },
   "file_extension": ".py",
   "mimetype": "text/x-python",
   "name": "python",
   "nbconvert_exporter": "python",
   "pygments_lexer": "ipython3",
   "version": "3.7.4"
  }
 },
 "nbformat": 4,
 "nbformat_minor": 4
}

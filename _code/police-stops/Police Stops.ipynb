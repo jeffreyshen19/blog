{
 "cells": [
  {
   "cell_type": "markdown",
   "metadata": {},
   "source": [
    "# Police Stops in Massachusetts\n",
    "Visualizing racial disparities in police stops by Massachusetts State Police"
   ]
  },
  {
   "cell_type": "code",
   "execution_count": 48,
   "metadata": {},
   "outputs": [],
   "source": [
    "# Load Data\n",
    "import pandas as pd \n",
    "import numpy as np\n",
    "import matplotlib.pyplot as plt\n",
    "from operator import add"
   ]
  },
  {
   "cell_type": "code",
   "execution_count": 3,
   "metadata": {},
   "outputs": [
    {
     "name": "stderr",
     "output_type": "stream",
     "text": [
      "/Library/Frameworks/Python.framework/Versions/3.7/lib/python3.7/site-packages/IPython/core/interactiveshell.py:3051: DtypeWarning: Columns (8,9,10) have mixed types. Specify dtype option on import or set low_memory=False.\n",
      "  interactivity=interactivity, compiler=compiler, result=result)\n"
     ]
    },
    {
     "name": "stdout",
     "output_type": "stream",
     "text": [
      "(3416238, 24)\n"
     ]
    },
    {
     "data": {
      "text/html": [
       "<div>\n",
       "<style scoped>\n",
       "    .dataframe tbody tr th:only-of-type {\n",
       "        vertical-align: middle;\n",
       "    }\n",
       "\n",
       "    .dataframe tbody tr th {\n",
       "        vertical-align: top;\n",
       "    }\n",
       "\n",
       "    .dataframe thead th {\n",
       "        text-align: right;\n",
       "    }\n",
       "</style>\n",
       "<table border=\"1\" class=\"dataframe\">\n",
       "  <thead>\n",
       "    <tr style=\"text-align: right;\">\n",
       "      <th></th>\n",
       "      <th>raw_row_number</th>\n",
       "      <th>date</th>\n",
       "      <th>location</th>\n",
       "      <th>county_name</th>\n",
       "      <th>subject_age</th>\n",
       "      <th>subject_race</th>\n",
       "      <th>subject_sex</th>\n",
       "      <th>type</th>\n",
       "      <th>arrest_made</th>\n",
       "      <th>citation_issued</th>\n",
       "      <th>...</th>\n",
       "      <th>contraband_weapons</th>\n",
       "      <th>contraband_alcohol</th>\n",
       "      <th>contraband_other</th>\n",
       "      <th>frisk_performed</th>\n",
       "      <th>search_conducted</th>\n",
       "      <th>search_basis</th>\n",
       "      <th>reason_for_stop</th>\n",
       "      <th>vehicle_type</th>\n",
       "      <th>vehicle_registration_state</th>\n",
       "      <th>raw_Race</th>\n",
       "    </tr>\n",
       "  </thead>\n",
       "  <tbody>\n",
       "    <tr>\n",
       "      <th>0</th>\n",
       "      <td>1</td>\n",
       "      <td>2007-06-06</td>\n",
       "      <td>MIDDLEBOROUGH</td>\n",
       "      <td>Plymouth County</td>\n",
       "      <td>33.0</td>\n",
       "      <td>white</td>\n",
       "      <td>male</td>\n",
       "      <td>vehicular</td>\n",
       "      <td>False</td>\n",
       "      <td>True</td>\n",
       "      <td>...</td>\n",
       "      <td>NaN</td>\n",
       "      <td>False</td>\n",
       "      <td>NaN</td>\n",
       "      <td>NaN</td>\n",
       "      <td>False</td>\n",
       "      <td>NaN</td>\n",
       "      <td>Speed</td>\n",
       "      <td>Passenger</td>\n",
       "      <td>MA</td>\n",
       "      <td>White</td>\n",
       "    </tr>\n",
       "    <tr>\n",
       "      <th>1</th>\n",
       "      <td>2</td>\n",
       "      <td>2007-06-07</td>\n",
       "      <td>SEEKONK</td>\n",
       "      <td>Bristol County</td>\n",
       "      <td>36.0</td>\n",
       "      <td>white</td>\n",
       "      <td>male</td>\n",
       "      <td>vehicular</td>\n",
       "      <td>False</td>\n",
       "      <td>False</td>\n",
       "      <td>...</td>\n",
       "      <td>False</td>\n",
       "      <td>False</td>\n",
       "      <td>False</td>\n",
       "      <td>False</td>\n",
       "      <td>True</td>\n",
       "      <td>other</td>\n",
       "      <td>NaN</td>\n",
       "      <td>Commercial</td>\n",
       "      <td>MA</td>\n",
       "      <td>White</td>\n",
       "    </tr>\n",
       "    <tr>\n",
       "      <th>2</th>\n",
       "      <td>3</td>\n",
       "      <td>2007-06-07</td>\n",
       "      <td>MEDFORD</td>\n",
       "      <td>Middlesex County</td>\n",
       "      <td>56.0</td>\n",
       "      <td>white</td>\n",
       "      <td>female</td>\n",
       "      <td>vehicular</td>\n",
       "      <td>False</td>\n",
       "      <td>False</td>\n",
       "      <td>...</td>\n",
       "      <td>NaN</td>\n",
       "      <td>False</td>\n",
       "      <td>NaN</td>\n",
       "      <td>NaN</td>\n",
       "      <td>False</td>\n",
       "      <td>NaN</td>\n",
       "      <td>NaN</td>\n",
       "      <td>Passenger</td>\n",
       "      <td>MA</td>\n",
       "      <td>White</td>\n",
       "    </tr>\n",
       "    <tr>\n",
       "      <th>3</th>\n",
       "      <td>4</td>\n",
       "      <td>2007-06-07</td>\n",
       "      <td>MEDFORD</td>\n",
       "      <td>Middlesex County</td>\n",
       "      <td>37.0</td>\n",
       "      <td>white</td>\n",
       "      <td>male</td>\n",
       "      <td>vehicular</td>\n",
       "      <td>False</td>\n",
       "      <td>False</td>\n",
       "      <td>...</td>\n",
       "      <td>NaN</td>\n",
       "      <td>False</td>\n",
       "      <td>NaN</td>\n",
       "      <td>NaN</td>\n",
       "      <td>False</td>\n",
       "      <td>NaN</td>\n",
       "      <td>NaN</td>\n",
       "      <td>Commercial</td>\n",
       "      <td>MA</td>\n",
       "      <td>White</td>\n",
       "    </tr>\n",
       "    <tr>\n",
       "      <th>4</th>\n",
       "      <td>5</td>\n",
       "      <td>2007-06-07</td>\n",
       "      <td>EVERETT</td>\n",
       "      <td>Middlesex County</td>\n",
       "      <td>22.0</td>\n",
       "      <td>hispanic</td>\n",
       "      <td>female</td>\n",
       "      <td>vehicular</td>\n",
       "      <td>False</td>\n",
       "      <td>True</td>\n",
       "      <td>...</td>\n",
       "      <td>NaN</td>\n",
       "      <td>False</td>\n",
       "      <td>NaN</td>\n",
       "      <td>NaN</td>\n",
       "      <td>False</td>\n",
       "      <td>NaN</td>\n",
       "      <td>NaN</td>\n",
       "      <td>Commercial</td>\n",
       "      <td>MA</td>\n",
       "      <td>Hispanic</td>\n",
       "    </tr>\n",
       "  </tbody>\n",
       "</table>\n",
       "<p>5 rows × 24 columns</p>\n",
       "</div>"
      ],
      "text/plain": [
       "   raw_row_number        date       location       county_name  subject_age  \\\n",
       "0               1  2007-06-06  MIDDLEBOROUGH   Plymouth County         33.0   \n",
       "1               2  2007-06-07        SEEKONK    Bristol County         36.0   \n",
       "2               3  2007-06-07        MEDFORD  Middlesex County         56.0   \n",
       "3               4  2007-06-07        MEDFORD  Middlesex County         37.0   \n",
       "4               5  2007-06-07        EVERETT  Middlesex County         22.0   \n",
       "\n",
       "  subject_race subject_sex       type arrest_made citation_issued  ...  \\\n",
       "0        white        male  vehicular       False            True  ...   \n",
       "1        white        male  vehicular       False           False  ...   \n",
       "2        white      female  vehicular       False           False  ...   \n",
       "3        white        male  vehicular       False           False  ...   \n",
       "4     hispanic      female  vehicular       False            True  ...   \n",
       "\n",
       "  contraband_weapons contraband_alcohol contraband_other frisk_performed  \\\n",
       "0                NaN              False              NaN             NaN   \n",
       "1              False              False            False           False   \n",
       "2                NaN              False              NaN             NaN   \n",
       "3                NaN              False              NaN             NaN   \n",
       "4                NaN              False              NaN             NaN   \n",
       "\n",
       "  search_conducted  search_basis reason_for_stop vehicle_type  \\\n",
       "0            False           NaN           Speed    Passenger   \n",
       "1             True         other             NaN   Commercial   \n",
       "2            False           NaN             NaN    Passenger   \n",
       "3            False           NaN             NaN   Commercial   \n",
       "4            False           NaN             NaN   Commercial   \n",
       "\n",
       "   vehicle_registration_state  raw_Race  \n",
       "0                          MA     White  \n",
       "1                          MA     White  \n",
       "2                          MA     White  \n",
       "3                          MA     White  \n",
       "4                          MA  Hispanic  \n",
       "\n",
       "[5 rows x 24 columns]"
      ]
     },
     "execution_count": 3,
     "metadata": {},
     "output_type": "execute_result"
    }
   ],
   "source": [
    "df = pd.read_csv(\"ma_statewide_2020_04_01.csv\")\n",
    "print(df.shape)\n",
    "df.head()"
   ]
  },
  {
   "cell_type": "code",
   "execution_count": 4,
   "metadata": {
    "scrolled": true
   },
   "outputs": [
    {
     "name": "stdout",
     "output_type": "stream",
     "text": [
      "(3414574, 24)\n"
     ]
    },
    {
     "data": {
      "text/html": [
       "<div>\n",
       "<style scoped>\n",
       "    .dataframe tbody tr th:only-of-type {\n",
       "        vertical-align: middle;\n",
       "    }\n",
       "\n",
       "    .dataframe tbody tr th {\n",
       "        vertical-align: top;\n",
       "    }\n",
       "\n",
       "    .dataframe thead th {\n",
       "        text-align: right;\n",
       "    }\n",
       "</style>\n",
       "<table border=\"1\" class=\"dataframe\">\n",
       "  <thead>\n",
       "    <tr style=\"text-align: right;\">\n",
       "      <th></th>\n",
       "      <th>raw_row_number</th>\n",
       "      <th>date</th>\n",
       "      <th>location</th>\n",
       "      <th>county_name</th>\n",
       "      <th>subject_age</th>\n",
       "      <th>subject_race</th>\n",
       "      <th>subject_sex</th>\n",
       "      <th>type</th>\n",
       "      <th>arrest_made</th>\n",
       "      <th>citation_issued</th>\n",
       "      <th>...</th>\n",
       "      <th>contraband_weapons</th>\n",
       "      <th>contraband_alcohol</th>\n",
       "      <th>contraband_other</th>\n",
       "      <th>frisk_performed</th>\n",
       "      <th>search_conducted</th>\n",
       "      <th>search_basis</th>\n",
       "      <th>reason_for_stop</th>\n",
       "      <th>vehicle_type</th>\n",
       "      <th>vehicle_registration_state</th>\n",
       "      <th>raw_Race</th>\n",
       "    </tr>\n",
       "  </thead>\n",
       "  <tbody>\n",
       "    <tr>\n",
       "      <th>0</th>\n",
       "      <td>1</td>\n",
       "      <td>2007-06-06</td>\n",
       "      <td>MIDDLEBOROUGH</td>\n",
       "      <td>Plymouth County</td>\n",
       "      <td>33.0</td>\n",
       "      <td>white</td>\n",
       "      <td>male</td>\n",
       "      <td>vehicular</td>\n",
       "      <td>False</td>\n",
       "      <td>True</td>\n",
       "      <td>...</td>\n",
       "      <td>NaN</td>\n",
       "      <td>False</td>\n",
       "      <td>NaN</td>\n",
       "      <td>NaN</td>\n",
       "      <td>False</td>\n",
       "      <td>NaN</td>\n",
       "      <td>Speed</td>\n",
       "      <td>Passenger</td>\n",
       "      <td>MA</td>\n",
       "      <td>White</td>\n",
       "    </tr>\n",
       "    <tr>\n",
       "      <th>1</th>\n",
       "      <td>2</td>\n",
       "      <td>2007-06-07</td>\n",
       "      <td>SEEKONK</td>\n",
       "      <td>Bristol County</td>\n",
       "      <td>36.0</td>\n",
       "      <td>white</td>\n",
       "      <td>male</td>\n",
       "      <td>vehicular</td>\n",
       "      <td>False</td>\n",
       "      <td>False</td>\n",
       "      <td>...</td>\n",
       "      <td>False</td>\n",
       "      <td>False</td>\n",
       "      <td>False</td>\n",
       "      <td>False</td>\n",
       "      <td>True</td>\n",
       "      <td>other</td>\n",
       "      <td>NaN</td>\n",
       "      <td>Commercial</td>\n",
       "      <td>MA</td>\n",
       "      <td>White</td>\n",
       "    </tr>\n",
       "    <tr>\n",
       "      <th>2</th>\n",
       "      <td>3</td>\n",
       "      <td>2007-06-07</td>\n",
       "      <td>MEDFORD</td>\n",
       "      <td>Middlesex County</td>\n",
       "      <td>56.0</td>\n",
       "      <td>white</td>\n",
       "      <td>female</td>\n",
       "      <td>vehicular</td>\n",
       "      <td>False</td>\n",
       "      <td>False</td>\n",
       "      <td>...</td>\n",
       "      <td>NaN</td>\n",
       "      <td>False</td>\n",
       "      <td>NaN</td>\n",
       "      <td>NaN</td>\n",
       "      <td>False</td>\n",
       "      <td>NaN</td>\n",
       "      <td>NaN</td>\n",
       "      <td>Passenger</td>\n",
       "      <td>MA</td>\n",
       "      <td>White</td>\n",
       "    </tr>\n",
       "    <tr>\n",
       "      <th>3</th>\n",
       "      <td>4</td>\n",
       "      <td>2007-06-07</td>\n",
       "      <td>MEDFORD</td>\n",
       "      <td>Middlesex County</td>\n",
       "      <td>37.0</td>\n",
       "      <td>white</td>\n",
       "      <td>male</td>\n",
       "      <td>vehicular</td>\n",
       "      <td>False</td>\n",
       "      <td>False</td>\n",
       "      <td>...</td>\n",
       "      <td>NaN</td>\n",
       "      <td>False</td>\n",
       "      <td>NaN</td>\n",
       "      <td>NaN</td>\n",
       "      <td>False</td>\n",
       "      <td>NaN</td>\n",
       "      <td>NaN</td>\n",
       "      <td>Commercial</td>\n",
       "      <td>MA</td>\n",
       "      <td>White</td>\n",
       "    </tr>\n",
       "    <tr>\n",
       "      <th>4</th>\n",
       "      <td>5</td>\n",
       "      <td>2007-06-07</td>\n",
       "      <td>EVERETT</td>\n",
       "      <td>Middlesex County</td>\n",
       "      <td>22.0</td>\n",
       "      <td>hispanic</td>\n",
       "      <td>female</td>\n",
       "      <td>vehicular</td>\n",
       "      <td>False</td>\n",
       "      <td>True</td>\n",
       "      <td>...</td>\n",
       "      <td>NaN</td>\n",
       "      <td>False</td>\n",
       "      <td>NaN</td>\n",
       "      <td>NaN</td>\n",
       "      <td>False</td>\n",
       "      <td>NaN</td>\n",
       "      <td>NaN</td>\n",
       "      <td>Commercial</td>\n",
       "      <td>MA</td>\n",
       "      <td>Hispanic</td>\n",
       "    </tr>\n",
       "  </tbody>\n",
       "</table>\n",
       "<p>5 rows × 24 columns</p>\n",
       "</div>"
      ],
      "text/plain": [
       "   raw_row_number        date       location       county_name  subject_age  \\\n",
       "0               1  2007-06-06  MIDDLEBOROUGH   Plymouth County         33.0   \n",
       "1               2  2007-06-07        SEEKONK    Bristol County         36.0   \n",
       "2               3  2007-06-07        MEDFORD  Middlesex County         56.0   \n",
       "3               4  2007-06-07        MEDFORD  Middlesex County         37.0   \n",
       "4               5  2007-06-07        EVERETT  Middlesex County         22.0   \n",
       "\n",
       "  subject_race subject_sex       type arrest_made citation_issued  ...  \\\n",
       "0        white        male  vehicular       False            True  ...   \n",
       "1        white        male  vehicular       False           False  ...   \n",
       "2        white      female  vehicular       False           False  ...   \n",
       "3        white        male  vehicular       False           False  ...   \n",
       "4     hispanic      female  vehicular       False            True  ...   \n",
       "\n",
       "  contraband_weapons contraband_alcohol contraband_other frisk_performed  \\\n",
       "0                NaN              False              NaN             NaN   \n",
       "1              False              False            False           False   \n",
       "2                NaN              False              NaN             NaN   \n",
       "3                NaN              False              NaN             NaN   \n",
       "4                NaN              False              NaN             NaN   \n",
       "\n",
       "  search_conducted  search_basis reason_for_stop vehicle_type  \\\n",
       "0            False           NaN           Speed    Passenger   \n",
       "1             True         other             NaN   Commercial   \n",
       "2            False           NaN             NaN    Passenger   \n",
       "3            False           NaN             NaN   Commercial   \n",
       "4            False           NaN             NaN   Commercial   \n",
       "\n",
       "   vehicle_registration_state  raw_Race  \n",
       "0                          MA     White  \n",
       "1                          MA     White  \n",
       "2                          MA     White  \n",
       "3                          MA     White  \n",
       "4                          MA  Hispanic  \n",
       "\n",
       "[5 rows x 24 columns]"
      ]
     },
     "execution_count": 4,
     "metadata": {},
     "output_type": "execute_result"
    }
   ],
   "source": [
    "# Filter rows that don't have race data \n",
    "df = df[df[\"subject_race\"].notnull()]\n",
    "print(df.shape)\n",
    "df.head()"
   ]
  },
  {
   "cell_type": "markdown",
   "metadata": {},
   "source": [
    "We only removed 1,664 records. "
   ]
  },
  {
   "cell_type": "code",
   "execution_count": 5,
   "metadata": {},
   "outputs": [],
   "source": [
    "# Racial breakdown of traffic stops\n",
    "racial_breakdown = df.groupby('subject_race')['raw_row_number'].nunique()"
   ]
  },
  {
   "cell_type": "code",
   "execution_count": 6,
   "metadata": {},
   "outputs": [
    {
     "data": {
      "image/png": "[encoded data removed]",
      "text/plain": [
       "<Figure size 432x288 with 1 Axes>"
      ]
     },
     "metadata": {},
     "output_type": "display_data"
    }
   ],
   "source": [
    "labels = []\n",
    "sizes = []\n",
    "\n",
    "for race, stops in racial_breakdown.items():\n",
    "    labels.append(race)\n",
    "    sizes.append(stops)\n",
    "\n",
    "fig1, ax1 = plt.subplots()\n",
    "ax1.pie(sizes, labels=labels, autopct='%1.1f%%',\n",
    "        shadow=True, startangle=90)\n",
    "ax1.axis('equal')  # Equal aspect ratio ensures that pie is drawn as a circle.\n",
    "plt.title(\"State Police Stops in Massachusetts by race\")\n",
    "plt.show()"
   ]
  },
  {
   "cell_type": "markdown",
   "metadata": {},
   "source": [
    "Massachusetts in 2018 was about 12.3% Hispanic, 80% White (71.4% non-Hispanic White), 8.9% Black, 7.2% AAPI, and 3% other. (These don't add up to 100% because Hispanic is not considered a race by the Census). Overall, police stops in Massachusetts are roughly inline with proportions of Census categories, though there could be discrepancies due to how police perceive the people they stop."
   ]
  },
  {
   "cell_type": "code",
   "execution_count": 32,
   "metadata": {},
   "outputs": [
    {
     "data": {
      "image/png": "[encoded data removed]",
      "text/plain": [
       "<Figure size 1080x360 with 2 Axes>"
      ]
     },
     "metadata": {
      "needs_background": "light"
     },
     "output_type": "display_data"
    }
   ],
   "source": [
    "fig, (ax1, ax2) = plt.subplots(1, 2, figsize = (15,5))\n",
    "\n",
    "# Search rate, by race\n",
    "search_by_race = df.groupby(['subject_race', 'search_conducted'])['raw_row_number'].nunique()\n",
    "\n",
    "labels = [\"aapi\", \"black\", \"hispanic\", \"other\", \"unknown\", \"white\"]\n",
    "search_rate = []\n",
    "\n",
    "for i in range(0, 2 * len(labels), 2):\n",
    "    search_rate.append(search_by_race[i + 1] / (search_by_race[i] + search_by_race[i + 1]))\n",
    "\n",
    "ax1.bar(labels, search_rate)\n",
    "ax1.set_title('Search Rate by Race')\n",
    "\n",
    "# Frisk rate, by race\n",
    "frisk_by_race = df.groupby(['subject_race', 'frisk_performed'])['raw_row_number'].nunique()\n",
    "frisk_rate = []\n",
    "\n",
    "for i in range(0, 2 * len(labels), 2):\n",
    "    frisk_rate.append(frisk_by_race[i + 1] / (frisk_by_race[i] + frisk_by_race[i + 1]))\n",
    "\n",
    "ax2.bar(labels, frisk_rate)\n",
    "ax2.set_title('Frisk Rate by Race')\n",
    "\n",
    "plt.show()"
   ]
  },
  {
   "cell_type": "markdown",
   "metadata": {},
   "source": [
    "As can be seen, Black and Hispanic people are disproportionately searched by race, and POC generally are frisked at slightly higher rates than white people, though this is not a significant enough difference, and there aren't as many data points for frisking. (Ignore other & unknown, data is not enough)"
   ]
  },
  {
   "cell_type": "code",
   "execution_count": 54,
   "metadata": {},
   "outputs": [
    {
     "data": {
      "image/png": "[encoded data removed]",
      "text/plain": [
       "<Figure size 432x288 with 1 Axes>"
      ]
     },
     "metadata": {
      "needs_background": "light"
     },
     "output_type": "display_data"
    }
   ],
   "source": [
    "# Search basis, by race\n",
    "search_basis_by_race = df.groupby(['subject_race', 'search_basis'])['raw_row_number'].nunique()\n",
    "probable_cause_by_race = []\n",
    "consent_cause_by_race = []\n",
    "other_cause_by_race = []\n",
    "\n",
    "for i in range(0, 3 * len(labels), 3):\n",
    "    total = (search_basis_by_race[i] + search_basis_by_race[i + 1] + search_basis_by_race[i + 2])\n",
    "    consent_cause_by_race.append(search_basis_by_race[i] / total)\n",
    "    other_cause_by_race.append(search_basis_by_race[i + 1] / total)\n",
    "    probable_cause_by_race.append(search_basis_by_race[i + 2] / total)\n",
    "    \n",
    "ind = np.arange(len(labels))   \n",
    "p1 = plt.bar(ind, probable_cause_by_race)\n",
    "p2 = plt.bar(ind, consent_cause_by_race, bottom=probable_cause_by_race)\n",
    "p3 = plt.bar(ind, other_cause_by_race, bottom=list(map(add, probable_cause_by_race, consent_cause_by_race)))\n",
    "\n",
    "plt.xticks(ind, labels)\n",
    "plt.title('Cause of Search by Race')\n",
    "plt.legend((p1[0], p2[0], p3[0]), ('Probable Cause', 'Consent', 'Other'))\n",
    "\n",
    "plt.show()"
   ]
  },
  {
   "cell_type": "markdown",
   "metadata": {},
   "source": [
    "There doesn't seem to be that much variation in why police search, with the exception that \"probable cause\" is a more common reason when searching African Americans.  "
   ]
  },
  {
   "cell_type": "code",
   "execution_count": 82,
   "metadata": {},
   "outputs": [
    {
     "data": {
      "image/png": "[encoded data removed]",
      "text/plain": [
       "<Figure size 432x288 with 1 Axes>"
      ]
     },
     "metadata": {
      "needs_background": "light"
     },
     "output_type": "display_data"
    }
   ],
   "source": [
    "# Outcome test \n",
    "contraband_found_by_race = df.groupby(['subject_race', 'contraband_found'])['raw_row_number'].nunique()\n",
    "contraband_rate = []\n",
    "\n",
    "for i in range(0, 2 * len(labels), 2):\n",
    "    contraband_rate.append(contraband_found_by_race[i + 1] / (contraband_found_by_race[i] + contraband_found_by_race[i + 1]))\n",
    "    \n",
    "plt.bar(labels, contraband_rate)\n",
    "plt.title('Contraband Found by Race')\n",
    "plt.show()"
   ]
  },
  {
   "cell_type": "markdown",
   "metadata": {},
   "source": [
    "As can be seen, contraband is actually found in lower rates amongst Black and Hispanic people who are searched, despite the fact that Black and Hispanic people are more likely to be searched when stopped. This suggests some discriminatory policing "
   ]
  },
  {
   "cell_type": "code",
   "execution_count": 1,
   "metadata": {},
   "outputs": [],
   "source": [
    "# contraband_(found, drugs, weapons, alcohol, other), arrest_made, citation_issued, warning_issued, \n",
    "\n",
    "# Map by county and location, stop rates vs population rates\n",
    "\n",
    "# subject_age, subject_sex "
   ]
  },
  {
   "cell_type": "code",
   "execution_count": null,
   "metadata": {},
   "outputs": [],
   "source": []
  }
 ],
 "metadata": {
  "kernelspec": {
   "display_name": "Python 3",
   "language": "python",
   "name": "python3"
  },
  "language_info": {
   "codemirror_mode": {
    "name": "ipython",
    "version": 3
   },
   "file_extension": ".py",
   "mimetype": "text/x-python",
   "name": "python",
   "nbconvert_exporter": "python",
   "pygments_lexer": "ipython3",
   "version": "3.7.4"
  }
 },
 "nbformat": 4,
 "nbformat_minor": 4
}
